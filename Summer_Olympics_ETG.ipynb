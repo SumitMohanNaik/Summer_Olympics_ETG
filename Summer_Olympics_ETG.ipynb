{
  "nbformat": 4,
  "nbformat_minor": 0,
  "metadata": {
    "colab": {
      "name": "Summer_Olympics_ETG.ipynb",
      "provenance": [],
      "collapsed_sections": []
    },
    "kernelspec": {
      "name": "python3",
      "display_name": "Python 3"
    },
    "language_info": {
      "name": "python"
    }
  },
  "cells": [
    {
      "cell_type": "markdown",
      "metadata": {
        "id": "PAdtfMvE13Y0"
      },
      "source": [
        "# **Summer Olympics Data Analysis Assignment**\n",
        "\n",
        "## ---->*Sumit Mohan Naik*\n",
        "\n"
      ]
    },
    {
      "cell_type": "code",
      "metadata": {
        "id": "3Elug9i5zeL_"
      },
      "source": [
        "import pandas as pd\n",
        "import matplotlib.pyplot as plt"
      ],
      "execution_count": 1,
      "outputs": []
    },
    {
      "cell_type": "code",
      "metadata": {
        "colab": {
          "base_uri": "https://localhost:8080/",
          "height": 357
        },
        "id": "A81HYLSd2n4D",
        "outputId": "9542b9b9-04e0-4720-f074-896b5b1efe21"
      },
      "source": [
        "\n",
        "datasetlink='https://raw.githubusercontent.com/SumitMohanNaik/Summer_Olympics_ETG/main/summer.csv'\n",
        "df = pd.read_csv(datasetlink)\n",
        "df.head(10)"
      ],
      "execution_count": 4,
      "outputs": [
        {
          "output_type": "execute_result",
          "data": {
            "text/html": [
              "<div>\n",
              "<style scoped>\n",
              "    .dataframe tbody tr th:only-of-type {\n",
              "        vertical-align: middle;\n",
              "    }\n",
              "\n",
              "    .dataframe tbody tr th {\n",
              "        vertical-align: top;\n",
              "    }\n",
              "\n",
              "    .dataframe thead th {\n",
              "        text-align: right;\n",
              "    }\n",
              "</style>\n",
              "<table border=\"1\" class=\"dataframe\">\n",
              "  <thead>\n",
              "    <tr style=\"text-align: right;\">\n",
              "      <th></th>\n",
              "      <th>Year</th>\n",
              "      <th>City</th>\n",
              "      <th>Sport</th>\n",
              "      <th>Discipline</th>\n",
              "      <th>Athlete</th>\n",
              "      <th>Country</th>\n",
              "      <th>Gender</th>\n",
              "      <th>Event</th>\n",
              "      <th>Medal</th>\n",
              "    </tr>\n",
              "  </thead>\n",
              "  <tbody>\n",
              "    <tr>\n",
              "      <th>0</th>\n",
              "      <td>1896</td>\n",
              "      <td>Athens</td>\n",
              "      <td>Aquatics</td>\n",
              "      <td>Swimming</td>\n",
              "      <td>HAJOS, Alfred</td>\n",
              "      <td>HUN</td>\n",
              "      <td>Men</td>\n",
              "      <td>100M Freestyle</td>\n",
              "      <td>Gold</td>\n",
              "    </tr>\n",
              "    <tr>\n",
              "      <th>1</th>\n",
              "      <td>1896</td>\n",
              "      <td>Athens</td>\n",
              "      <td>Aquatics</td>\n",
              "      <td>Swimming</td>\n",
              "      <td>HERSCHMANN, Otto</td>\n",
              "      <td>AUT</td>\n",
              "      <td>Men</td>\n",
              "      <td>100M Freestyle</td>\n",
              "      <td>Silver</td>\n",
              "    </tr>\n",
              "    <tr>\n",
              "      <th>2</th>\n",
              "      <td>1896</td>\n",
              "      <td>Athens</td>\n",
              "      <td>Aquatics</td>\n",
              "      <td>Swimming</td>\n",
              "      <td>DRIVAS, Dimitrios</td>\n",
              "      <td>GRE</td>\n",
              "      <td>Men</td>\n",
              "      <td>100M Freestyle For Sailors</td>\n",
              "      <td>Bronze</td>\n",
              "    </tr>\n",
              "    <tr>\n",
              "      <th>3</th>\n",
              "      <td>1896</td>\n",
              "      <td>Athens</td>\n",
              "      <td>Aquatics</td>\n",
              "      <td>Swimming</td>\n",
              "      <td>MALOKINIS, Ioannis</td>\n",
              "      <td>GRE</td>\n",
              "      <td>Men</td>\n",
              "      <td>100M Freestyle For Sailors</td>\n",
              "      <td>Gold</td>\n",
              "    </tr>\n",
              "    <tr>\n",
              "      <th>4</th>\n",
              "      <td>1896</td>\n",
              "      <td>Athens</td>\n",
              "      <td>Aquatics</td>\n",
              "      <td>Swimming</td>\n",
              "      <td>CHASAPIS, Spiridon</td>\n",
              "      <td>GRE</td>\n",
              "      <td>Men</td>\n",
              "      <td>100M Freestyle For Sailors</td>\n",
              "      <td>Silver</td>\n",
              "    </tr>\n",
              "    <tr>\n",
              "      <th>5</th>\n",
              "      <td>1896</td>\n",
              "      <td>Athens</td>\n",
              "      <td>Aquatics</td>\n",
              "      <td>Swimming</td>\n",
              "      <td>CHOROPHAS, Efstathios</td>\n",
              "      <td>GRE</td>\n",
              "      <td>Men</td>\n",
              "      <td>1200M Freestyle</td>\n",
              "      <td>Bronze</td>\n",
              "    </tr>\n",
              "    <tr>\n",
              "      <th>6</th>\n",
              "      <td>1896</td>\n",
              "      <td>Athens</td>\n",
              "      <td>Aquatics</td>\n",
              "      <td>Swimming</td>\n",
              "      <td>HAJOS, Alfred</td>\n",
              "      <td>HUN</td>\n",
              "      <td>Men</td>\n",
              "      <td>1200M Freestyle</td>\n",
              "      <td>Gold</td>\n",
              "    </tr>\n",
              "    <tr>\n",
              "      <th>7</th>\n",
              "      <td>1896</td>\n",
              "      <td>Athens</td>\n",
              "      <td>Aquatics</td>\n",
              "      <td>Swimming</td>\n",
              "      <td>ANDREOU, Joannis</td>\n",
              "      <td>GRE</td>\n",
              "      <td>Men</td>\n",
              "      <td>1200M Freestyle</td>\n",
              "      <td>Silver</td>\n",
              "    </tr>\n",
              "    <tr>\n",
              "      <th>8</th>\n",
              "      <td>1896</td>\n",
              "      <td>Athens</td>\n",
              "      <td>Aquatics</td>\n",
              "      <td>Swimming</td>\n",
              "      <td>CHOROPHAS, Efstathios</td>\n",
              "      <td>GRE</td>\n",
              "      <td>Men</td>\n",
              "      <td>400M Freestyle</td>\n",
              "      <td>Bronze</td>\n",
              "    </tr>\n",
              "    <tr>\n",
              "      <th>9</th>\n",
              "      <td>1896</td>\n",
              "      <td>Athens</td>\n",
              "      <td>Aquatics</td>\n",
              "      <td>Swimming</td>\n",
              "      <td>NEUMANN, Paul</td>\n",
              "      <td>AUT</td>\n",
              "      <td>Men</td>\n",
              "      <td>400M Freestyle</td>\n",
              "      <td>Gold</td>\n",
              "    </tr>\n",
              "  </tbody>\n",
              "</table>\n",
              "</div>"
            ],
            "text/plain": [
              "   Year    City     Sport  ... Gender                       Event   Medal\n",
              "0  1896  Athens  Aquatics  ...    Men              100M Freestyle    Gold\n",
              "1  1896  Athens  Aquatics  ...    Men              100M Freestyle  Silver\n",
              "2  1896  Athens  Aquatics  ...    Men  100M Freestyle For Sailors  Bronze\n",
              "3  1896  Athens  Aquatics  ...    Men  100M Freestyle For Sailors    Gold\n",
              "4  1896  Athens  Aquatics  ...    Men  100M Freestyle For Sailors  Silver\n",
              "5  1896  Athens  Aquatics  ...    Men             1200M Freestyle  Bronze\n",
              "6  1896  Athens  Aquatics  ...    Men             1200M Freestyle    Gold\n",
              "7  1896  Athens  Aquatics  ...    Men             1200M Freestyle  Silver\n",
              "8  1896  Athens  Aquatics  ...    Men              400M Freestyle  Bronze\n",
              "9  1896  Athens  Aquatics  ...    Men              400M Freestyle    Gold\n",
              "\n",
              "[10 rows x 9 columns]"
            ]
          },
          "metadata": {},
          "execution_count": 4
        }
      ]
    },
    {
      "cell_type": "markdown",
      "metadata": {
        "id": "vPuc1y8036iK"
      },
      "source": [
        "### 1. In how many cities Summer Olympics is held so far?"
      ]
    },
    {
      "cell_type": "code",
      "metadata": {
        "colab": {
          "base_uri": "https://localhost:8080/"
        },
        "id": "YDcbkEbL4BdE",
        "outputId": "5c4afa9e-2ad1-4f93-f6c1-9099bb4185b5"
      },
      "source": [
        "print(df['City'].unique())\n",
        "print(\"Number of cities in which Olympic was held so far:\", len(df['City'].unique()))"
      ],
      "execution_count": 8,
      "outputs": [
        {
          "output_type": "stream",
          "name": "stdout",
          "text": [
            "['Athens' 'Paris' 'St Louis' 'London' 'Stockholm' 'Antwerp' 'Amsterdam'\n",
            " 'Los Angeles' 'Berlin' 'Helsinki' 'Melbourne / Stockholm' 'Rome' 'Tokyo'\n",
            " 'Mexico' 'Munich' 'Montreal' 'Moscow' 'Seoul' 'Barcelona' 'Atlanta'\n",
            " 'Sydney' 'Beijing']\n",
            "Number of cities in which Olympic was held so far: 22\n"
          ]
        }
      ]
    },
    {
      "cell_type": "markdown",
      "metadata": {
        "id": "3vxYjGS36AOp"
      },
      "source": [
        "### 2. Which sport is having most number of Gold Medals so far? (Top 5)"
      ]
    },
    {
      "cell_type": "code",
      "metadata": {
        "colab": {
          "base_uri": "https://localhost:8080/",
          "height": 567
        },
        "id": "6z-Xwxxk5zUE",
        "outputId": "93b78c46-b0f8-4b3c-f09c-e4683fb29c36"
      },
      "source": [
        "df_1=df[df['Medal']=='Gold']\n",
        "data = []\n",
        "for Sport in df_1['Sport'].unique():\n",
        "    data.append([Sport , len(df_1[df_1['Sport']  == Sport])])\n",
        "data_frame=pd.DataFrame(data,columns = ['Sport','Medal']).sort_values(by='Medal', ascending=False)\n",
        "dat=data_frame.head()\n",
        "print(\"Top 5 sports with most number of Gold Medals:\")\n",
        "print(dat)\n",
        "print(\"\\n\")\n",
        "print(\"Bar graph for the top 5 sports having most number of Gold Medals:\")\n",
        "print(dat.plot(x = 'Sport', y = 'Medal', kind = 'bar', figsize = (5,5),color='gold'))"
      ],
      "execution_count": 9,
      "outputs": [
        {
          "output_type": "stream",
          "name": "stdout",
          "text": [
            "Top 5 sports with most number of Gold Medals:\n",
            "         Sport  Medal\n",
            "0     Aquatics   1421\n",
            "1    Athletics   1215\n",
            "17      Rowing    890\n",
            "4   Gymnastics    820\n",
            "3      Fencing    552\n",
            "\n",
            "\n",
            "Bar graph for the top 5 sports having most number of Gold Medals:\n",
            "AxesSubplot(0.125,0.125;0.775x0.755)\n"
          ]
        },
        {
          "output_type": "display_data",
          "data": {
            "image/png": "[encoded data removed]",
            "text/plain": [
              "<Figure size 360x360 with 1 Axes>"
            ]
          },
          "metadata": {
            "needs_background": "light"
          }
        }
      ]
    },
    {
      "cell_type": "markdown",
      "metadata": {
        "id": "O8mYUPIY6GRA"
      },
      "source": [
        "### 3. Which sport is having most number of medals so far? (Top 5)"
      ]
    },
    {
      "cell_type": "code",
      "metadata": {
        "colab": {
          "base_uri": "https://localhost:8080/",
          "height": 567
        },
        "id": "YKZPrIZ96G2S",
        "outputId": "94891c62-d0e9-44bb-a620-4c860dfb63b6"
      },
      "source": [
        "data = []\n",
        "for Sport in df['Sport'].unique():\n",
        "    data.append([Sport , len(df[df['Sport']==Sport])])\n",
        "data_frame=pd.DataFrame(data,columns = ['Sport','Medal']).sort_values(by='Medal', ascending=False)\n",
        "dat=data_frame.head()\n",
        "print(\"Top 5 sports with most number of medals so far:\")\n",
        "print(dat)\n",
        "print(\"\\n\")\n",
        "print(\"Bar graph for the top 5 sports having most number of medals so far:\")\n",
        "print(dat.plot(x = 'Sport', y = 'Medal', kind = 'bar', figsize = (5,5),color='green'))"
      ],
      "execution_count": 13,
      "outputs": [
        {
          "output_type": "stream",
          "name": "stdout",
          "text": [
            "Top 5 sports with most number of medals so far:\n",
            "         Sport  Medal\n",
            "0     Aquatics   4170\n",
            "1    Athletics   3638\n",
            "17      Rowing   2667\n",
            "4   Gymnastics   2307\n",
            "3      Fencing   1613\n",
            "\n",
            "\n",
            "Bar graph for the top 5 sports having most number of medals so far:\n",
            "AxesSubplot(0.125,0.125;0.775x0.755)\n"
          ]
        },
        {
          "output_type": "display_data",
          "data": {
            "image/png": "[encoded data removed]",
            "text/plain": [
              "<Figure size 360x360 with 1 Axes>"
            ]
          },
          "metadata": {
            "needs_background": "light"
          }
        }
      ]
    },
    {
      "cell_type": "markdown",
      "metadata": {
        "id": "LP-EETnC11OZ"
      },
      "source": [
        "### 4. Which player has won most number of medals? (Top 5)"
      ]
    },
    {
      "cell_type": "code",
      "metadata": {
        "colab": {
          "base_uri": "https://localhost:8080/",
          "height": 626
        },
        "id": "sAK9ITYt6enG",
        "outputId": "2ecf1742-ba35-4151-992d-99096bb77bcc"
      },
      "source": [
        "data = []\n",
        "for Athlete in df['Athlete'].unique():\n",
        "    data.append([Athlete , len(df[df['Athlete']==Athlete])])\n",
        "data_frame=pd.DataFrame(data,columns = ['Athlete','Medal']).sort_values(by='Medal', ascending=False)\n",
        "dat=data_frame.head()\n",
        "print(\"Top 5 players who have won most number of medals:\")\n",
        "print(dat)\n",
        "print(\"\\n\")\n",
        "print(\"Bar graph for the top 5 players who have won most number of medals:\")\n",
        "print(dat.plot(x = 'Athlete', y = 'Medal', kind = 'bar', figsize = (5,5),color='black'))"
      ],
      "execution_count": 15,
      "outputs": [
        {
          "output_type": "stream",
          "name": "stdout",
          "text": [
            "Top 5 players who have won most number of medals:\n",
            "                    Athlete  Medal\n",
            "18640       PHELPS, Michael     22\n",
            "7197       LATYNINA, Larisa     18\n",
            "9948     ANDRIANOV, Nikolay     15\n",
            "6591           ONO, Takashi     13\n",
            "5103   MANGIAROTTI, Edoardo     13\n",
            "\n",
            "\n",
            "Bar graph for the top 5 players who have won most number of medals:\n",
            "AxesSubplot(0.125,0.125;0.775x0.755)\n"
          ]
        },
        {
          "output_type": "display_data",
          "data": {
            "image/png": "[encoded data removed]",
            "text/plain": [
              "<Figure size 360x360 with 1 Axes>"
            ]
          },
          "metadata": {
            "needs_background": "light"
          }
        }
      ]
    },
    {
      "cell_type": "markdown",
      "metadata": {
        "id": "AmdGv35B6fcm"
      },
      "source": [
        "### 5. Which player has won most number Gold Medals of medals? (Top 5)"
      ]
    },
    {
      "cell_type": "code",
      "metadata": {
        "colab": {
          "base_uri": "https://localhost:8080/",
          "height": 594
        },
        "id": "m6qmYgig6f3q",
        "outputId": "a0829918-a921-4c20-acd3-988a8cd95eb7"
      },
      "source": [
        "df_1=df[df['Medal']=='Gold']\n",
        "data = []\n",
        "for Athlete in df_1['Athlete'].unique():\n",
        "    data.append([Athlete , len(df_1[df_1['Athlete']  == Athlete])])\n",
        "data_frame=pd.DataFrame(data,columns = ['Athlete','Medal']).sort_values(by='Medal', ascending=False)\n",
        "dat=data_frame.head()\n",
        "print(\"Top 5 players who have won most number of Gold Medals of medals:\")\n",
        "print(dat)\n",
        "print(\"\\n\")\n",
        "print(\"Bar graph for the top 5 players who have won most number of Gold Medals of medals:\")\n",
        "print(dat.plot(x = 'Athlete', y = 'Medal', kind = 'bar', figsize = (5,5),color='cyan'))"
      ],
      "execution_count": 12,
      "outputs": [
        {
          "output_type": "stream",
          "name": "stdout",
          "text": [
            "Top 5 players who have won most number of Gold Medals of medals:\n",
            "               Athlete  Medal\n",
            "6851   PHELPS, Michael     18\n",
            "3320       SPITZ, Mark      9\n",
            "2714  LATYNINA, Larisa      9\n",
            "4630       LEWIS, Carl      9\n",
            "907       NURMI, Paavo      9\n",
            "\n",
            "\n",
            "Bar graph for the top 5 players who have won most number of Gold Medals of medals:\n",
            "AxesSubplot(0.125,0.125;0.775x0.755)\n"
          ]
        },
        {
          "output_type": "display_data",
          "data": {
            "image/png": "[encoded data removed]",
            "text/plain": [
              "<Figure size 360x360 with 1 Axes>"
            ]
          },
          "metadata": {
            "needs_background": "light"
          }
        }
      ]
    },
    {
      "cell_type": "markdown",
      "metadata": {
        "id": "vpSOlfg2-P7a"
      },
      "source": [
        "### 6. In which year India won first Gold Medal in Summer Olympics?"
      ]
    },
    {
      "cell_type": "code",
      "metadata": {
        "colab": {
          "base_uri": "https://localhost:8080/"
        },
        "id": "jbgBArQq-Qkd",
        "outputId": "73a28d9b-cccc-4b61-dee6-46830b4b2bae"
      },
      "source": [
        "gold_medal=df[df['Medal']=='Gold']\n",
        "year=gold_medal.sort_values(['Year'],ascending=True)\n",
        "gold=year[year['Country']=='IND'].iloc[0]\n",
        "print(\"The year in which India won its first Gold medal in summer olympics is\",gold['Year'])\n",
        "print(gold)"
      ],
      "execution_count": 16,
      "outputs": [
        {
          "output_type": "stream",
          "name": "stdout",
          "text": [
            "The year in which India won its first Gold medal in summer olympics is 1928\n",
            "Year                 1928\n",
            "City            Amsterdam\n",
            "Sport              Hockey\n",
            "Discipline         Hockey\n",
            "Athlete       CHAND, Dyan\n",
            "Country               IND\n",
            "Gender                Men\n",
            "Event              Hockey\n",
            "Medal                Gold\n",
            "Name: 5513, dtype: object\n"
          ]
        }
      ]
    },
    {
      "cell_type": "markdown",
      "metadata": {
        "id": "SKxjzTaE-RJs"
      },
      "source": [
        "### 7. Which event is most popular in terms on number of players? (Top 5)"
      ]
    },
    {
      "cell_type": "code",
      "metadata": {
        "colab": {
          "base_uri": "https://localhost:8080/",
          "height": 549
        },
        "id": "SKVbSeXx-Rsf",
        "outputId": "9e30cfc6-8c7e-47b5-db54-dc0d3465a190"
      },
      "source": [
        "print(df.groupby('Event').count()['Athlete'].sort_values(ascending=False).head())\n",
        "df.groupby('Event').count()['Athlete'].sort_values(ascending=False).head().plot.bar(figsize=(5,5),color='red')"
      ],
      "execution_count": 20,
      "outputs": [
        {
          "output_type": "stream",
          "name": "stdout",
          "text": [
            "Event\n",
            "Football            1497\n",
            "Hockey              1422\n",
            "Team Competition    1147\n",
            "Basketball          1012\n",
            "Handball             973\n",
            "Name: Athlete, dtype: int64\n"
          ]
        },
        {
          "output_type": "execute_result",
          "data": {
            "text/plain": [
              "<matplotlib.axes._subplots.AxesSubplot at 0x7f8a6b744950>"
            ]
          },
          "metadata": {},
          "execution_count": 20
        },
        {
          "output_type": "display_data",
          "data": {
            "image/png": "[encoded data removed]",
            "text/plain": [
              "<Figure size 360x360 with 1 Axes>"
            ]
          },
          "metadata": {
            "needs_background": "light"
          }
        }
      ]
    },
    {
      "cell_type": "markdown",
      "metadata": {
        "id": "llJhYTh4-fbt"
      },
      "source": [
        "### 8. Which sport is having most female Gold Medalists? (Top 5)"
      ]
    },
    {
      "cell_type": "code",
      "metadata": {
        "colab": {
          "base_uri": "https://localhost:8080/",
          "height": 407
        },
        "id": "oPjvRYLk-f8P",
        "outputId": "20a0ae54-42c1-45ea-cfa5-15fa0d2beb3b"
      },
      "source": [
        "sport_gender_medal = df[['Sport', 'Gender', 'Medal']]\n",
        "sport_women_medal = sport_gender_medal[sport_gender_medal['Gender'] == 'Women']\n",
        "sport_women_gold = sport_women_medal[sport_women_medal['Medal'] == 'Gold']\n",
        "\n",
        "golden_women_per_sport = []\n",
        "for i in sport_women_gold['Sport'].unique():\n",
        "    golden_women_per_sport.append([i, len(sport_women_gold[sport_women_gold['Sport'] == i])])\n",
        "\n",
        "df_golden_women_per_sport = pd.DataFrame(golden_women_per_sport, columns=['Sport', 'Number of Gold Medalist Women']).sort_values(by='Number of Gold Medalist Women')\n",
        "df_golden_women_per_sport[-5:].plot(kind='barh', y='Number of Gold Medalist Women', x='Sport', title='Top-5 Sports with Most Number of Female Gold Medalist', figsize=(10, 6),color='Cyan')"
      ],
      "execution_count": 22,
      "outputs": [
        {
          "output_type": "execute_result",
          "data": {
            "text/plain": [
              "<matplotlib.axes._subplots.AxesSubplot at 0x7f8a6b732c90>"
            ]
          },
          "metadata": {},
          "execution_count": 22
        },
        {
          "output_type": "display_data",
          "data": {
            "image/png": "[encoded data removed]",
            "text/plain": [
              "<Figure size 720x432 with 1 Axes>"
            ]
          },
          "metadata": {
            "needs_background": "light"
          }
        }
      ]
    }
  ]
}